{
 "cells": [
  {
   "cell_type": "markdown",
   "metadata": {},
   "source": [
    "# Assignment 1"
   ]
  },
  {
   "cell_type": "markdown",
   "metadata": {},
   "source": [
    "1. Реализовать Блум фильтр с помощью битового массива.\n",
    "Например, вы можете использовать [Битовые операции](https://wiki.python.org/moin/BitwiseOperators) или библиотеку bitarray."
   ]
  },
  {
   "cell_type": "code",
   "execution_count": 1,
   "metadata": {},
   "outputs": [],
   "source": [
    "from math import log, ceil\n",
    "from random import randint, choice\n",
    "from string import ascii_lowercase"
   ]
  },
  {
   "cell_type": "code",
   "execution_count": 2,
   "metadata": {},
   "outputs": [],
   "source": [
    "class Bloom_filter:\n",
    "\n",
    "    def __init__(self, S, fp):\n",
    "        self.fp = fp\n",
    "        self.hashes = [randint(1, 996),\n",
    "                       randint(1, 996),\n",
    "                       randint(1, 996)]\n",
    "        self.arr = [0] * self.get_arr_size(S)\n",
    "    \n",
    "    def get_arr_size(self, S):\n",
    "        return ceil(1 / log(2)**2 * S * log(1/self.fp))\n",
    "    \n",
    "    def hash_int(self, x, a=76, b=14, p=733):\n",
    "        return (a*x + b) % p\n",
    "        \n",
    "    def poly_hash(self, s, x, p=997):\n",
    "        h = 0\n",
    "        for j in range(len(s)-1, -1, -1):\n",
    "            h = (h * x + ord(s[j]) + p) % p\n",
    "        return self.hash_int(h)\n",
    "\n",
    "    def insert(self, elem):\n",
    "        indices = [self.poly_hash(elem, num) for num in self.hashes]\n",
    "        for ind in indices:\n",
    "            self.arr[ind] = 1\n",
    "\n",
    "    def lookup(self, elem):\n",
    "        indices = [self.poly_hash(elem, num) for num in self.hashes]\n",
    "        for ind in indices:\n",
    "            if self.arr[ind] == 0:\n",
    "                return False\n",
    "        return True"
   ]
  },
  {
   "cell_type": "markdown",
   "metadata": {},
   "source": [
    "2. Провести численный эксперимент при false postive rate = 0.05, и количестве объектов S = 1 000 000.\n",
    "Убедится, полученные на семинаре оптимальные параметры фильтра позволяют достичь заявленного false positive rate.\n",
    "Посчитать  $\\frac {\\epsilon - \\hat \\epsilon} \\epsilon$, где $\\hat \\epsilon$ - ваша экспериментальная оценка false positive rate. В качестве объектов используйте строки."
   ]
  },
  {
   "cell_type": "code",
   "execution_count": 3,
   "metadata": {},
   "outputs": [],
   "source": [
    "def get_strings(S, min_str, max_str):\n",
    "    strings = set()\n",
    "    while len(strings) != S:\n",
    "        strings.add(''.join([choice(ascii_lowercase) for _ in range(randint(min_str, max_str))]))\n",
    "    return strings"
   ]
  },
  {
   "cell_type": "code",
   "execution_count": 4,
   "metadata": {},
   "outputs": [],
   "source": [
    "def get_fp_experimental(S, fp, min_str, max_str):\n",
    "    bloom_filter = Bloom_filter(S, fp)\n",
    "\n",
    "    strings_1 = get_strings(S, min_str, max_str)\n",
    "    strings_2 = get_strings(S, min_str, max_str)\n",
    "    \n",
    "    for string in strings_1:\n",
    "        bloom_filter.insert(string)\n",
    "        \n",
    "    fp_experimental = 0\n",
    "    for string in strings_2:\n",
    "        if not bloom_filter.lookup(string) and string in strings_1:\n",
    "            fp_experimental += 1\n",
    "\n",
    "    return fp_experimental / len(strings_2) * 100"
   ]
  },
  {
   "cell_type": "code",
   "execution_count": 5,
   "metadata": {},
   "outputs": [
    {
     "name": "stdout",
     "output_type": "stream",
     "text": [
      "FP: 0.05\n",
      "experimental FP: 0.0\n",
      "(FP - experimental FP) / FP = 1.0\n"
     ]
    }
   ],
   "source": [
    "fp = 0.05\n",
    "S = 1000000\n",
    "min_str = 0\n",
    "max_str = 7\n",
    "\n",
    "fp_experimental = get_fp_experimental(S, fp, min_str, max_str)\n",
    "\n",
    "print('FP: {}'.format(fp))\n",
    "print('experimental FP: {}'.format(fp_experimental))\n",
    "print('(FP - experimental FP) / FP = {}'.format((fp-fp_experimental) / fp))"
   ]
  }
 ],
 "metadata": {
  "kernelspec": {
   "display_name": "Python 3",
   "language": "python",
   "name": "python3"
  },
  "language_info": {
   "codemirror_mode": {
    "name": "ipython",
    "version": 3
   },
   "file_extension": ".py",
   "mimetype": "text/x-python",
   "name": "python",
   "nbconvert_exporter": "python",
   "pygments_lexer": "ipython3",
   "version": "3.5.2"
  },
  "widgets": {
   "state": {},
   "version": "1.1.2"
  }
 },
 "nbformat": 4,
 "nbformat_minor": 2
}
